{
 "cells": [
  {
   "cell_type": "code",
   "execution_count": null,
   "id": "b9757a34-fb7b-4e1f-bf04-f0ca500318ff",
   "metadata": {},
   "outputs": [],
   "source": [
    "Q1. How can you create a Bokeh plot using Python code?\n",
    "Ans- Step1-Install Bokeh library\n",
    "           pip install bokeh\n",
    "      Step2-Import Bokeh and required modules:\n",
    "            import bokeh.io\n",
    "            import bokeh.plotting\n",
    "            boken.output_notebook()\n",
    "            from bokeh.plotting import figure, output_file, show\n",
    "            from bokeh.sampledata.iris import flowers\n",
    "        Step3-Create a figure object:\n",
    "             output_file('test.html')\n",
    "             p=figure(title='test flower')\n",
    "        Step4- Add data to the plot:\n",
    "             p.xaxis.axis_lable=\"paltel length\"\n",
    "            p.yaxis.axis_lable= \"paltel width\"\n",
    "            p.circle(flowers['paltel-length'];flowers['petal-width'])\n",
    "        step5- output-\n",
    "               show(p)"
   ]
  },
  {
   "cell_type": "code",
   "execution_count": null,
   "id": "36358359-02f0-4d85-bbb0-9dcb7ab1698f",
   "metadata": {},
   "outputs": [],
   "source": [
    "Q2. What are glyphs in Bokeh, and how can you add them to a Bokeh plot? Explain with an example."
   ]
  },
  {
   "cell_type": "code",
   "execution_count": null,
   "id": "73faafd1-c848-4250-bdcd-3dd058abea6c",
   "metadata": {},
   "outputs": [],
   "source": [
    "In Bokeh, glyphs are visual representations of data points that are used to create plots such as scatter plots, line plots, and bar charts. Glyphs are the basic building blocks of Bokeh plots.\n",
    "\n",
    "To add glyphs to a Bokeh plot, you can use the glyph methods provided by Bokeh.\n",
    "\n",
    "from bokeh.plotting import figure, output_file, show\n",
    "\n",
    "# Prepare some data\n",
    "x = [1, 2, 3, 4, 5]\n",
    "y = [2, 5, 3, 7, 1]\n",
    "\n",
    "# Create a figure object\n",
    "plot = figure(title='My Bokeh Plot', width=800, height=600)\n",
    "\n",
    "# Add a circle glyph to the plot\n",
    "plot.circle(x, y, size=10, color='blue', alpha=0.5)\n",
    "\n",
    "# Specify the output file and show the plot\n",
    "output_file('my_plot.html')\n",
    "show(plot)"
   ]
  },
  {
   "cell_type": "code",
   "execution_count": null,
   "id": "d6914ba3-1a91-44b0-aaf1-06deccea969f",
   "metadata": {},
   "outputs": [],
   "source": [
    "q3.How can you customize the appearance of a Bokeh plot, including the axes, title, and legend?\n",
    "  I. Axes customizing:axis,label, tick labels, and range\n",
    "        plot.xaxis.axis_label = \"X-axis label\"\n",
    "        plot.yaxis.axis_label = \"Y-axis label\"\n",
    "        plot.xaxis.major_label_text_color = \"red\"\n",
    "        plot.yaxis.major_label_text_font_size = \"14pt\"\n",
    "        plot.x_range = Range1d(0, 10)\n",
    "    II.Title customize:    title text, font size, and alignment \n",
    "        plot.title.text = \"My Bokeh Plot\"\n",
    "        plot.title.align = \"center\"\n",
    "        plot.title.text_color = \"blue\"\n",
    "        plot.title.text_font_size = \"20pt\"\n",
    "   III.   Legend customize: label, location, and background color.\n",
    "         plot.circle(x, y, size=10, color='blue', alpha=0.5, legend_label=\"Data Points\")\n",
    "         plot.legend.location = \"top_left\"\n",
    "         plot.legend.background_fill_color = \"lightgray\""
   ]
  },
  {
   "cell_type": "code",
   "execution_count": null,
   "id": "b308ab6d-41e0-4bff-8fe8-7f26666117ea",
   "metadata": {},
   "outputs": [],
   "source": [
    "Q4. What is a Bokeh server, and how can you use it to create interactive plots that can be updated in\n",
    "real time?\n",
    "Ans:-A Bokeh server is a Python process that allows you to create and deploy interactive Bokeh plots\n",
    "as web applications. When you run a Bokeh server, it creates a web server that listens for incoming\n",
    "connections and serves up Bokeh applications to web browsers. Bokeh server applications can be used\n",
    "to create interactive plots that can be updated in real time.\n",
    "\n",
    "Creating a Bokeh server application:\n",
    "    1.Define the layout: The first step in creating a Bokeh server application is to define the\n",
    "    layout of the plot using the layout module. \n",
    "    2.Define the callback function: Next, you define a Python function that will update the plot\n",
    "    whenever an event occurs, such as a button click or a slider change. \n",
    "    3.Create the Bokeh application: Finally, you create a Bokeh application object that encapsulates\n",
    "    the plot layout and the callback function.\n",
    "\n",
    "\n"
   ]
  },
  {
   "cell_type": "code",
   "execution_count": null,
   "id": "d7de25e0-a812-4cc0-8dee-6ce048983bd8",
   "metadata": {},
   "outputs": [],
   "source": [
    "Q5. How can you embed a Bokeh plot into a web page or dashboard using Flask or Django?\n",
    "Ans. To embed a Bokeh plot into a web page or dashboard using Flask or Django, you can use the bokeh.embed\n",
    "module to generate HTML and JavaScript code that can be included in your web page.\n",
    "Here are the basic steps to embed a Bokeh plot into a Flask web application:\n",
    "    1.Create a Bokeh plot using the figure function, as you normally would.\n",
    "    2.Create a Bokeh document for the plot using the curdoc function.\n",
    "    3.Create a Bokeh server session for the document using the ServerSession class.\n",
    "    4.Generate the HTML and JavaScript code for the plot using the server_document function.\n",
    "    5.Include the HTML and JavaScript code in your Flask template.\n"
   ]
  }
 ],
 "metadata": {
  "kernelspec": {
   "display_name": "Python 3 (ipykernel)",
   "language": "python",
   "name": "python3"
  },
  "language_info": {
   "codemirror_mode": {
    "name": "ipython",
    "version": 3
   },
   "file_extension": ".py",
   "mimetype": "text/x-python",
   "name": "python",
   "nbconvert_exporter": "python",
   "pygments_lexer": "ipython3",
   "version": "3.10.8"
  }
 },
 "nbformat": 4,
 "nbformat_minor": 5
}
